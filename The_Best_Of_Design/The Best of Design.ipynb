{
 "cells": [
  {
   "cell_type": "markdown",
   "metadata": {},
   "source": [
    "# Exploring the kingdoms of life"
   ]
  },
  {
   "cell_type": "markdown",
   "metadata": {},
   "source": [
    "![](tree_life.pdf)"
   ]
  },
  {
   "cell_type": "markdown",
   "metadata": {},
   "source": [
    "![](tree_life.png)"
   ]
  },
  {
   "cell_type": "markdown",
   "metadata": {},
   "source": [
    "## Phenotypically, how diff are we from other species?"
   ]
  },
  {
   "cell_type": "code",
   "execution_count": 2,
   "metadata": {},
   "outputs": [],
   "source": [
    "# import pandas as pd\n",
    "# import seaborn as sns\n",
    "# import matplotlib.pyplot as plt\n",
    "# from sklearn.cluster import KMeans"
   ]
  },
  {
   "cell_type": "code",
   "execution_count": 3,
   "metadata": {},
   "outputs": [],
   "source": [
    "# df = pd.read_csv('features.csv')"
   ]
  },
  {
   "cell_type": "code",
   "execution_count": 4,
   "metadata": {},
   "outputs": [],
   "source": [
    "# df.head()"
   ]
  },
  {
   "cell_type": "code",
   "execution_count": 5,
   "metadata": {},
   "outputs": [],
   "source": [
    "# plt.figure(figsize=(10, 3))\n",
    "# sns.heatmap(df.set_index('Features').T, cmap='Blues')\n",
    "# plt.yticks(rotation=0)\n",
    "# plt.title('Comparison of characteristics between humans and other animals')\n",
    "# plt.show()"
   ]
  },
  {
   "cell_type": "markdown",
   "metadata": {},
   "source": [
    "## How intelligent are humans against other species?"
   ]
  },
  {
   "cell_type": "markdown",
   "metadata": {},
   "source": [
    "https://www.youtube.com/watch?v=2VUHdu_g8ok"
   ]
  },
  {
   "cell_type": "code",
   "execution_count": 6,
   "metadata": {},
   "outputs": [],
   "source": [
    "# df = pd.read_csv('iq.csv')"
   ]
  },
  {
   "cell_type": "code",
   "execution_count": 8,
   "metadata": {},
   "outputs": [],
   "source": [
    "# df.head()"
   ]
  },
  {
   "cell_type": "code",
   "execution_count": 9,
   "metadata": {},
   "outputs": [],
   "source": [
    "# df.describe()"
   ]
  },
  {
   "cell_type": "code",
   "execution_count": 10,
   "metadata": {},
   "outputs": [],
   "source": [
    "# # Create a larger figure\n",
    "# plt.figure(figsize=(10, 5))\n",
    "\n",
    "# # Create a scatter plot\n",
    "# plt.hist(df['IQ'], bins=20)\n",
    "# plt.xlabel('IQ')\n",
    "# plt.ylabel('Frequency')\n",
    "# plt.title('IQ of different species')\n",
    "# plt.show()"
   ]
  },
  {
   "cell_type": "code",
   "execution_count": 11,
   "metadata": {},
   "outputs": [],
   "source": [
    "# # Fit the KMeans model to the data\n",
    "# kmeans = KMeans(n_clusters=5)\n",
    "# kmeans.fit(df[['IQ']])\n",
    "\n",
    "# # Add the cluster labels to the DataFrame\n",
    "# df['cluster'] = kmeans.labels_\n",
    "\n",
    "# # Create a larger figure\n",
    "# plt.figure(figsize=(10, 5))\n",
    "\n",
    "# # Plot the data using seaborn \n",
    "# sns.scatterplot(x='IQ', y='cluster', hue='cluster', data=df)\n",
    "# for i, txt in enumerate(df['Species']):\n",
    "#     if df['IQ'][i] > 41 or txt == 'Fox' or txt == 'Shark':\n",
    "#         plt.annotate(txt, (df['IQ'][i], df['cluster'][i]))\n",
    "# plt.title('IQ Clustering of different species')\n",
    "# plt.show()"
   ]
  }
 ],
 "metadata": {
  "kernelspec": {
   "display_name": "Python 3",
   "language": "python",
   "name": "python3"
  },
  "language_info": {
   "codemirror_mode": {
    "name": "ipython",
    "version": 3
   },
   "file_extension": ".py",
   "mimetype": "text/x-python",
   "name": "python",
   "nbconvert_exporter": "python",
   "pygments_lexer": "ipython3",
   "version": "3.8.5"
  }
 },
 "nbformat": 4,
 "nbformat_minor": 4
}
